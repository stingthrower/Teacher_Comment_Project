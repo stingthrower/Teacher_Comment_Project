{
 "cells": [
  {
   "cell_type": "code",
   "execution_count": 43,
   "metadata": {
    "collapsed": false
   },
   "outputs": [
   ],
   "source": [
    "def collaboration():\n",
    "    import csv\n",
    "    # change any red text that is not in the brackets to say what you would like it to say. \n",
    "    with open('teacher.csv') as student_info: # change file name if your student information in under a different file name.\n",
    "        header = next(student_info)\n",
    "        items = csv.reader(student_info, delimiter=',')\n",
    "        for student in items:\n",
    "            student_name = student[0].split(' ')\n",
    "            student_file = open(f'{student[0]}.txt', 'a')\n",
    "            if student[6] == 'TRUE':\n",
    "                student_file.write(f'{student_name[0]}, you collaborate well with others in class! ')\n",
    "            else:\n",
    "                student_file.write(f'{student_name[0]}, I hope that you will utilise your classmates more to work through your ideas. ')\n",
    "            if student[7] == 'TRUE':\n",
    "                student_file.write('You are good at turning your work in on time. ')\n",
    "            else:\n",
    "                student_file.write('I hope you can work more on time management to turn in your work on time. ')\n",
    "            student_file.close()\n",
    "collaboration()"
   ]
  },
  {
   "cell_type": "code",
   "execution_count": 24,
   "metadata": {
    "collapsed": false
   },
   "outputs": [
   ],
   "source": [
    "def midterm():\n",
    "    import csv\n",
    "    with open('teacher.csv') as student_info: # change file name if your student information in under a different file name.\n",
    "        header = next(student_info)\n",
    "        items = csv.reader(student_info, delimiter=',')\n",
    "        for student in items:\n",
    "            score = student[2].split('/')\n",
    "            percent = (int(score[0])/int(score[1]))*100\n",
    "            student_file = open(f'{student[0]}.txt', 'a')\n",
    "            if percent >= 93:\n",
    "                student_file.write(f'Your midterm score was a {percent}%  A. You showed a strong understanding of the material. Bravo! ')\n",
    "            elif percent >= 90 and percent <93:\n",
    "                student_file.write(f'Your midterm score was a {percent}% A-. You showed a strong understanding of the content. ')\n",
    "            elif percent >= 87 and percent < 90:\n",
    "                student_file.write(f'Your midterm score was a {percent}% B+. You showed an understaning of most material. ')\n",
    "            elif percent >= 83 and percent < 87:\n",
    "                student_file.write(f'Your midterm score was a {percent}% B. You showed an understanding of some of the material. I would recommend you utilzing office hours to work through your ideas. ')\n",
    "            elif percent >= 80 and percent < 83:\n",
    "                student_file.write(f'Your midterm score was a {percent}% B-. You showed an understanding of some material. I would recommend you utilizing office hours to meet and work through challenging ideas. ')\n",
    "            elif percent >= 77 and percent < 80:\n",
    "                student_file.write(f'Your midterm score was a {percent}% C+. You showed a limited understanding of some of hte material. It could be helpful to meet with me during offce hours to tackle any lack of understandings. ')\n",
    "            elif percent >= 73 and percent < 77:\n",
    "                student_file.write(f'Your midterm score was a {percent}% C. You could try commiting more time to studying material and coming to me with any questions. If you want help studying material you can some by my office or meet with Maego to go over study techniques. ')\n",
    "            elif percent >= 70 and percent < 73:\n",
    "                student_file.write(f'Your midterm score was a {percent}% C-. You should try commiting more time to studying material and coming to me with any questions. If you want help studying material you can some by my office or meet with Maego to go over study techniques. ')\n",
    "            elif percent >= 67 and percent < 70:\n",
    "                student_file.write(f'Your midterm score was a {percent}% D+. I would recommend meeting with me or Maego to go over study techniques. ')\n",
    "            elif percent >= 63 and percent < 67:\n",
    "                student_file.write(f'Your midterm score was a {percent}% D. I would like to speak with you and your parents to better understand your situation, so we can all better understand how to support you. In the meantime I recommend you meet with Maego to go over study techniques. ')\n",
    "            elif percent >= 60 and percent < 63:\n",
    "                student_file.write(f'Your midterm score was a {percent}% D-. I would like to speak with you and your parents to better understand your situation, so we can all better understand how to support you. In the meantime I recommend you meet with Maego to go over study techniques. ')\n",
    "            elif percent >= 0 and percent < 60:\n",
    "                student_file.write(f'You are failing this course. First I would like to speak with you and your parents to better support you. Next I would like to speak with you to understand what next steps look like for you. As well I strongly recomment you meet with Maego to go other study techniques. ')\n",
    "            student_file.close()\n",
    "midterm()"
   ]
  },
  {
   "cell_type": "code",
   "execution_count": 28,
   "metadata": {
    "collapsed": false
   },
   "outputs": [
   ],
   "source": [
   ]
  },
  {
   "cell_type": "code",
   "execution_count": 45,
   "metadata": {
    "collapsed": false
   },
   "outputs": [
   ],
   "source": [
    "def learning_outcomes():\n",
    "    import csv\n",
    "    with open('teacher.csv') as student_info: # change file name if your student information in under a different file name.\n",
    "        header = next(student_info)\n",
    "        items = csv.reader(student_info, delimiter=',')\n",
    "        for student in items:\n",
    "            strength = student[4].replace('.','').strip()\n",
    "            weakness = student[5].replace('.','').strip()\n",
    "            student_name = student[0].split(' ')\n",
    "            student_file = open(f'{student[0]}.txt', 'a')\n",
    "            student_file.write(f'{student_name[0]}, in the first semester you practiced and demonstrated strength in the following learning outcome:\\n\\t - {strength[0].upper() + strength[1:].lower()}.')\n",
    "            student_file.write(f'\\n{student_name[0]}, going forward, additional focus on the following learning outcome will contribute to your continued growth:\\n\\t - {weakness[0].upper() + weakness[1:].lower()}.')\n",
    "learning_outcomes()"
   ]
  },
  {
   "cell_type": "code",
   "execution_count": 47,
   "metadata": {
    "collapsed": false
   },
   "outputs": [
   ],
   "source": [
    "import csv\n",
    "def intro():\n",
    "    classes = []\n",
    "    # change the file name to whatever the file name is that has your curriculm information. \n",
    "    with open ('Comment Coding Data - Curriculm (1).csv') as file:\n",
    "        student = csv.reader(file)\n",
    "        header = next(student)\n",
    "        for i in student:\n",
    "            classes.append(f'In {i[2]} class, we went over content like: {i[3]}. ')\n",
    "    with open('teacher.csv') as file:\n",
    "        student = csv.reader(file)\n",
    "        header = next(student)\n",
    "        for i in student:\n",
    "            for k in classes:\n",
    "                if i[3] == 'Science':\n",
    "                    if i[1] == '9':\n",
    "                        if 'Physics' in k:\n",
    "                            with open(f'{i[0]}.txt','w') as student_file:\n",
    "                                student_file.write(k)\n",
    "                    elif i[1] == '10':\n",
    "                        if 'Chemistry' in k:\n",
    "                            with open(f'{i[0]}.txt','w') as student_file:\n",
    "                                student_file.write(k)\n",
    "                    elif i[1] == '11':\n",
    "                        if 'Biology' in k:\n",
    "                            with open(f'{i[0]}.txt','w') as student_file:\n",
    "                                student_file.write(k)\n",
    "                elif i[3] == 'English':\n",
    "                    if i[1] in k and i[3] in k:\n",
    "                        with open(f'{i[0]}.txt','w') as student_file:\n",
    "                                student_file.write(k)\n",
    "                elif i[3] == 'History':\n",
    "                    if i[1] == '9':\n",
    "                        if 'World History' in k:\n",
    "                            with open(f'{i[0]}.txt','w') as student_file:\n",
    "                                student_file.write(k)\n",
    "                    elif i[1] == '10':\n",
    "                        if 'US History' in k:\n",
    "                            with open(f'{i[0]}.txt','w') as student_file:\n",
    "                                student_file.write(k)\n",
    "                elif i[3] == 'Art':\n",
    "                    if 'CDC' in k:\n",
    "                        with open(f'{i[0]}.txt','w') as student_file:\n",
    "                                student_file.write(k)\n",
    "                elif i[3] == 'Math':\n",
    "                    if 'algebra' in k:\n",
    "                        with open(f'{i[0]}.txt','w') as student_file:\n",
    "                                student_file.write(k)"
   ]
  },
  {
   "cell_type": "code",
   "execution_count": 48,
   "metadata": {
    "collapsed": false
   },
   "outputs": [
   ],
   "source": [
    "# Just run this cell to generate comments\n",
    "intro()\n",
    "body_paragraph()\n",
    "midterm()\n",
    "learning_outcomes()"
   ]
  },
  {
   "cell_type": "code",
   "execution_count": 0,
   "metadata": {
    "collapsed": false
   },
   "outputs": [
   ],
   "source": [
   ]
  }
 ],
 "metadata": {
  "kernelspec": {
   "display_name": "Python 3 (Anaconda 2020)",
   "env": {
    "ADDR2LINE": "/ext/anaconda2020.02/bin/x86_64-conda_cos6-linux-gnu-addr2line",
    "ANACONDA2019": "$EXT/anaconda-2019.03",
    "ANACONDA2020": "/ext/anaconda2020.02",
    "ANACONDA3": "$EXT/anaconda3",
    "ANACONDA5": "$EXT/anaconda5",
    "AR": "/ext/anaconda2020.02/bin/x86_64-conda_cos6-linux-gnu-ar",
    "AS": "/ext/anaconda2020.02/bin/x86_64-conda_cos6-linux-gnu-as",
    "CC": "/ext/anaconda2020.02/bin/x86_64-conda_cos6-linux-gnu-cc",
    "CFLAGS": "-march=nocona -mtune=haswell -ftree-vectorize -fPIC -fstack-protector-strong -fno-plt -O2 -ffunction-sections -pipe -isystem /ext/anaconda2020.02/include",
    "CMAKE_PREFIX_PATH": "/ext/anaconda2020.02:/ext/anaconda2020.02/x86_64-conda_cos6-linux-gnu/sysroot/usr",
    "CONDA_BACKUP_HOST": "x86_64-conda_cos6-linux-gnu",
    "CONDA_BUILD_SYSROOT": "/ext/anaconda2020.02/x86_64-conda_cos6-linux-gnu/sysroot",
    "CONDA_DEFAULT_ENV": "base",
    "CONDA_EXE": "/ext/anaconda2020.02/bin/conda",
    "CONDA_MKL_INTERFACE_LAYER_BACKUP": "",
    "CONDA_PREFIX": "/ext/anaconda2020.02",
    "CONDA_PROMPT_MODIFIER": "(base) ",
    "CONDA_PYTHON_EXE": "/ext/anaconda2020.02/bin/python",
    "CONDA_SHLVL": "1",
    "CPP": "/ext/anaconda2020.02/bin/x86_64-conda_cos6-linux-gnu-cpp",
    "CPPFLAGS": "-DNDEBUG -D_FORTIFY_SOURCE=2 -O2 -isystem /ext/anaconda2020.02/include",
    "CXX": "/ext/anaconda2020.02/bin/x86_64-conda_cos6-linux-gnu-c++",
    "CXXFILT": "/ext/anaconda2020.02/bin/x86_64-conda_cos6-linux-gnu-c++filt",
    "CXXFLAGS": "-fvisibility-inlines-hidden -std=c++17 -fmessage-length=0 -march=nocona -mtune=haswell -ftree-vectorize -fPIC -fstack-protector-strong -fno-plt -O2 -ffunction-sections -pipe -isystem /ext/anaconda2020.02/include",
    "DEBUG_CFLAGS": "-march=nocona -mtune=haswell -ftree-vectorize -fPIC -fstack-protector-all -fno-plt -Og -g -Wall -Wextra -fvar-tracking-assignments -ffunction-sections -pipe -isystem /ext/anaconda2020.02/include",
    "DEBUG_CPPFLAGS": "-D_DEBUG -D_FORTIFY_SOURCE=2 -Og -isystem /ext/anaconda2020.02/include",
    "DEBUG_CXXFLAGS": "-fvisibility-inlines-hidden -std=c++17 -fmessage-length=0 -march=nocona -mtune=haswell -ftree-vectorize -fPIC -fstack-protector-all -fno-plt -Og -g -Wall -Wextra -fvar-tracking-assignments -ffunction-sections -pipe -isystem /ext/anaconda2020.02/include",
    "DEBUG_FFLAGS": "-fopenmp -march=nocona -mtune=haswell -ftree-vectorize -fPIC -fstack-protector-strong -fno-plt -O2 -ffunction-sections -pipe -isystem /ext/anaconda2020.02/include -fopenmp -march=nocona -mtune=haswell -ftree-vectorize -fPIC -fstack-protector-all -fno-plt -Og -g -Wall -Wextra -fcheck=all -fbacktrace -fimplicit-none -fvar-tracking-assignments -ffunction-sections -pipe",
    "DEBUG_FORTRANFLAGS": "-fopenmp -march=nocona -mtune=haswell -ftree-vectorize -fPIC -fstack-protector-strong -fno-plt -O2 -ffunction-sections -pipe -isystem /ext/anaconda2020.02/include -fopenmp -march=nocona -mtune=haswell -ftree-vectorize -fPIC -fstack-protector-all -fno-plt -Og -g -Wall -Wextra -fcheck=all -fbacktrace -fimplicit-none -fvar-tracking-assignments -ffunction-sections -pipe",
    "ELFEDIT": "/ext/anaconda2020.02/bin/x86_64-conda_cos6-linux-gnu-elfedit",
    "F77": "/ext/anaconda2020.02/bin/x86_64-conda_cos6-linux-gnu-gfortran",
    "F90": "/ext/anaconda2020.02/bin/x86_64-conda_cos6-linux-gnu-gfortran",
    "F95": "/ext/anaconda2020.02/bin/x86_64-conda_cos6-linux-gnu-f95",
    "FC": "/ext/anaconda2020.02/bin/x86_64-conda_cos6-linux-gnu-gfortran",
    "FFLAGS": "-fopenmp -march=nocona -mtune=haswell -ftree-vectorize -fPIC -fstack-protector-strong -fno-plt -O2 -ffunction-sections -pipe -isystem /ext/anaconda2020.02/include",
    "FORTRANFLAGS": "-fopenmp -march=nocona -mtune=haswell -ftree-vectorize -fPIC -fstack-protector-strong -fno-plt -O2 -ffunction-sections -pipe -isystem /ext/anaconda2020.02/include",
    "GCC": "/ext/anaconda2020.02/bin/x86_64-conda_cos6-linux-gnu-gcc",
    "GCC_AR": "/ext/anaconda2020.02/bin/x86_64-conda_cos6-linux-gnu-gcc-ar",
    "GCC_NM": "/ext/anaconda2020.02/bin/x86_64-conda_cos6-linux-gnu-gcc-nm",
    "GCC_RANLIB": "/ext/anaconda2020.02/bin/x86_64-conda_cos6-linux-gnu-gcc-ranlib",
    "GDAL_DATA": "/ext/anaconda2020.02/share/gdal",
    "GFORTRAN": "/ext/anaconda2020.02/bin/x86_64-conda_cos6-linux-gnu-gfortran",
    "GPROF": "/ext/anaconda2020.02/bin/x86_64-conda_cos6-linux-gnu-gprof",
    "GXX": "/ext/anaconda2020.02/bin/x86_64-conda_cos6-linux-gnu-g++",
    "JAVA_HOME": "/ext/anaconda2020.02",
    "JAVA_HOME_CONDA_BACKUP": "",
    "JAVA_LD_LIBRARY_PATH": "/ext/anaconda2020.02/lib/server",
    "LD": "/ext/anaconda2020.02/bin/x86_64-conda_cos6-linux-gnu-ld",
    "LDFLAGS": "-Wl,-O2 -Wl,--sort-common -Wl,--as-needed -Wl,-z,relro -Wl,-z,now -Wl,--disable-new-dtags -Wl,--gc-sections -Wl,-rpath,/ext/anaconda2020.02/lib -Wl,-rpath-link,/ext/anaconda2020.02/lib -L/ext/anaconda2020.02/lib",
    "LD_GOLD": "/ext/anaconda2020.02/bin/x86_64-conda_cos6-linux-gnu-ld.gold",
    "LD_LIBRARY_PATH": "/ext/anaconda2020.02/lib",
    "MKL_INTERFACE_LAYER": "LP64,GNU",
    "MKL_THREADING_LAYER": "GNU",
    "NM": "/ext/anaconda2020.02/bin/x86_64-conda_cos6-linux-gnu-nm",
    "OBJCOPY": "/ext/anaconda2020.02/bin/x86_64-conda_cos6-linux-gnu-objcopy",
    "OBJDUMP": "/ext/anaconda2020.02/bin/x86_64-conda_cos6-linux-gnu-objdump",
    "OLDPWD": "/ext/anaconda2020.02",
    "PATH": "/ext/anaconda2020.02/bin:/ext/anaconda2020.02/bin:/ext/anaconda2020.02/condabin:/cocalc/bin:/cocalc/src/smc-project/bin:/home/salvus/bin:/home/salvus/.local/bin:/usr/lib/xpra:/ext/bin:/opt/ghc/bin:/usr/local/sbin:/usr/local/bin:/usr/sbin:/usr/bin:/sbin:/bin:/snap/bin:/usr/lib/postgresql/10/bin:/ext/data/homer/bin:/ext/data/weblogo",
    "PROJ_LIB": "/ext/anaconda2020.02/share/proj",
    "RANLIB": "/ext/anaconda2020.02/bin/x86_64-conda_cos6-linux-gnu-ranlib",
    "READELF": "/ext/anaconda2020.02/bin/x86_64-conda_cos6-linux-gnu-readelf",
    "RSTUDIO_WHICH_R": "/ext/anaconda2020.02/bin/R",
    "SIZE": "/ext/anaconda2020.02/bin/x86_64-conda_cos6-linux-gnu-size",
    "STRINGS": "/ext/anaconda2020.02/bin/x86_64-conda_cos6-linux-gnu-strings",
    "STRIP": "/ext/anaconda2020.02/bin/x86_64-conda_cos6-linux-gnu-strip",
    "_CE_CONDA": "",
    "_CE_M": "",
    "_CONDA_PYTHON_SYSCONFIGDATA_NAME": "_sysconfigdata_x86_64_conda_cos6_linux_gnu"
   },
   "language": "python",
   "metadata": {
    "cocalc": {
     "description": "Python/R distribution for data science",
     "priority": 2,
     "url": "https://www.anaconda.com/distribution/"
    }
   },
   "name": "anaconda2020",
   "resource_dir": "/ext/jupyter/kernels/anaconda2020"
  },
  "language_info": {
   "codemirror_mode": {
    "name": "ipython",
    "version": 3
   },
   "file_extension": ".py",
   "mimetype": "text/x-python",
   "name": "python",
   "nbconvert_exporter": "python",
   "pygments_lexer": "ipython3",
   "version": "3.7.8"
  }
 },
 "nbformat": 4,
 "nbformat_minor": 4
}